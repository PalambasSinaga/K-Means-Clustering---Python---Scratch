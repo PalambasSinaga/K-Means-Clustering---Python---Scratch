{
 "cells": [
  {
   "cell_type": "code",
   "execution_count": 295,
   "metadata": {},
   "outputs": [],
   "source": [
    "import pandas as pd\n",
    "import os\n",
    "import random\n",
    "import matplotlib.pyplot as plt\n",
    "from scipy.spatial import distance\n",
    "from statistics import mean"
   ]
  },
  {
   "cell_type": "code",
   "execution_count": 296,
   "metadata": {},
   "outputs": [
    {
     "name": "stdout",
     "output_type": "stream",
     "text": [
      "C:\\Users\\User\n"
     ]
    }
   ],
   "source": [
    "cwd = os.getcwd()\n",
    "print(cwd)"
   ]
  },
  {
   "cell_type": "code",
   "execution_count": 297,
   "metadata": {},
   "outputs": [
    {
     "data": {
      "text/html": [
       "<div>\n",
       "<style scoped>\n",
       "    .dataframe tbody tr th:only-of-type {\n",
       "        vertical-align: middle;\n",
       "    }\n",
       "\n",
       "    .dataframe tbody tr th {\n",
       "        vertical-align: top;\n",
       "    }\n",
       "\n",
       "    .dataframe thead th {\n",
       "        text-align: right;\n",
       "    }\n",
       "</style>\n",
       "<table border=\"1\" class=\"dataframe\">\n",
       "  <thead>\n",
       "    <tr style=\"text-align: right;\">\n",
       "      <th></th>\n",
       "      <th>No</th>\n",
       "      <th>x</th>\n",
       "      <th>y</th>\n",
       "    </tr>\n",
       "  </thead>\n",
       "  <tbody>\n",
       "    <tr>\n",
       "      <td>0</td>\n",
       "      <td>1</td>\n",
       "      <td>18</td>\n",
       "      <td>40</td>\n",
       "    </tr>\n",
       "    <tr>\n",
       "      <td>1</td>\n",
       "      <td>2</td>\n",
       "      <td>28</td>\n",
       "      <td>23</td>\n",
       "    </tr>\n",
       "    <tr>\n",
       "      <td>2</td>\n",
       "      <td>3</td>\n",
       "      <td>57</td>\n",
       "      <td>3</td>\n",
       "    </tr>\n",
       "    <tr>\n",
       "      <td>3</td>\n",
       "      <td>4</td>\n",
       "      <td>75</td>\n",
       "      <td>50</td>\n",
       "    </tr>\n",
       "    <tr>\n",
       "      <td>4</td>\n",
       "      <td>5</td>\n",
       "      <td>39</td>\n",
       "      <td>84</td>\n",
       "    </tr>\n",
       "    <tr>\n",
       "      <td>5</td>\n",
       "      <td>6</td>\n",
       "      <td>89</td>\n",
       "      <td>86</td>\n",
       "    </tr>\n",
       "    <tr>\n",
       "      <td>6</td>\n",
       "      <td>7</td>\n",
       "      <td>16</td>\n",
       "      <td>70</td>\n",
       "    </tr>\n",
       "    <tr>\n",
       "      <td>7</td>\n",
       "      <td>8</td>\n",
       "      <td>56</td>\n",
       "      <td>30</td>\n",
       "    </tr>\n",
       "    <tr>\n",
       "      <td>8</td>\n",
       "      <td>9</td>\n",
       "      <td>43</td>\n",
       "      <td>46</td>\n",
       "    </tr>\n",
       "    <tr>\n",
       "      <td>9</td>\n",
       "      <td>10</td>\n",
       "      <td>65</td>\n",
       "      <td>1</td>\n",
       "    </tr>\n",
       "    <tr>\n",
       "      <td>10</td>\n",
       "      <td>11</td>\n",
       "      <td>47</td>\n",
       "      <td>48</td>\n",
       "    </tr>\n",
       "    <tr>\n",
       "      <td>11</td>\n",
       "      <td>12</td>\n",
       "      <td>28</td>\n",
       "      <td>68</td>\n",
       "    </tr>\n",
       "    <tr>\n",
       "      <td>12</td>\n",
       "      <td>13</td>\n",
       "      <td>54</td>\n",
       "      <td>83</td>\n",
       "    </tr>\n",
       "    <tr>\n",
       "      <td>13</td>\n",
       "      <td>14</td>\n",
       "      <td>83</td>\n",
       "      <td>16</td>\n",
       "    </tr>\n",
       "    <tr>\n",
       "      <td>14</td>\n",
       "      <td>15</td>\n",
       "      <td>68</td>\n",
       "      <td>86</td>\n",
       "    </tr>\n",
       "    <tr>\n",
       "      <td>15</td>\n",
       "      <td>16</td>\n",
       "      <td>56</td>\n",
       "      <td>9</td>\n",
       "    </tr>\n",
       "    <tr>\n",
       "      <td>16</td>\n",
       "      <td>17</td>\n",
       "      <td>4</td>\n",
       "      <td>39</td>\n",
       "    </tr>\n",
       "    <tr>\n",
       "      <td>17</td>\n",
       "      <td>18</td>\n",
       "      <td>8</td>\n",
       "      <td>79</td>\n",
       "    </tr>\n",
       "    <tr>\n",
       "      <td>18</td>\n",
       "      <td>19</td>\n",
       "      <td>14</td>\n",
       "      <td>66</td>\n",
       "    </tr>\n",
       "    <tr>\n",
       "      <td>19</td>\n",
       "      <td>20</td>\n",
       "      <td>38</td>\n",
       "      <td>73</td>\n",
       "    </tr>\n",
       "    <tr>\n",
       "      <td>20</td>\n",
       "      <td>21</td>\n",
       "      <td>4</td>\n",
       "      <td>1</td>\n",
       "    </tr>\n",
       "    <tr>\n",
       "      <td>21</td>\n",
       "      <td>22</td>\n",
       "      <td>59</td>\n",
       "      <td>21</td>\n",
       "    </tr>\n",
       "    <tr>\n",
       "      <td>22</td>\n",
       "      <td>23</td>\n",
       "      <td>84</td>\n",
       "      <td>35</td>\n",
       "    </tr>\n",
       "    <tr>\n",
       "      <td>23</td>\n",
       "      <td>24</td>\n",
       "      <td>73</td>\n",
       "      <td>63</td>\n",
       "    </tr>\n",
       "    <tr>\n",
       "      <td>24</td>\n",
       "      <td>25</td>\n",
       "      <td>7</td>\n",
       "      <td>69</td>\n",
       "    </tr>\n",
       "    <tr>\n",
       "      <td>25</td>\n",
       "      <td>26</td>\n",
       "      <td>80</td>\n",
       "      <td>25</td>\n",
       "    </tr>\n",
       "    <tr>\n",
       "      <td>26</td>\n",
       "      <td>27</td>\n",
       "      <td>52</td>\n",
       "      <td>1</td>\n",
       "    </tr>\n",
       "    <tr>\n",
       "      <td>27</td>\n",
       "      <td>28</td>\n",
       "      <td>31</td>\n",
       "      <td>8</td>\n",
       "    </tr>\n",
       "    <tr>\n",
       "      <td>28</td>\n",
       "      <td>29</td>\n",
       "      <td>42</td>\n",
       "      <td>35</td>\n",
       "    </tr>\n",
       "    <tr>\n",
       "      <td>29</td>\n",
       "      <td>30</td>\n",
       "      <td>25</td>\n",
       "      <td>81</td>\n",
       "    </tr>\n",
       "  </tbody>\n",
       "</table>\n",
       "</div>"
      ],
      "text/plain": [
       "    No   x   y\n",
       "0    1  18  40\n",
       "1    2  28  23\n",
       "2    3  57   3\n",
       "3    4  75  50\n",
       "4    5  39  84\n",
       "5    6  89  86\n",
       "6    7  16  70\n",
       "7    8  56  30\n",
       "8    9  43  46\n",
       "9   10  65   1\n",
       "10  11  47  48\n",
       "11  12  28  68\n",
       "12  13  54  83\n",
       "13  14  83  16\n",
       "14  15  68  86\n",
       "15  16  56   9\n",
       "16  17   4  39\n",
       "17  18   8  79\n",
       "18  19  14  66\n",
       "19  20  38  73\n",
       "20  21   4   1\n",
       "21  22  59  21\n",
       "22  23  84  35\n",
       "23  24  73  63\n",
       "24  25   7  69\n",
       "25  26  80  25\n",
       "26  27  52   1\n",
       "27  28  31   8\n",
       "28  29  42  35\n",
       "29  30  25  81"
      ]
     },
     "execution_count": 297,
     "metadata": {},
     "output_type": "execute_result"
    }
   ],
   "source": [
    "file = pd.read_csv(\"Desktop/kmeansClustering.csv\")\n",
    "file"
   ]
  },
  {
   "cell_type": "code",
   "execution_count": 298,
   "metadata": {},
   "outputs": [],
   "source": [
    "x = file['x']\n",
    "y = file['y']"
   ]
  },
  {
   "cell_type": "code",
   "execution_count": 299,
   "metadata": {},
   "outputs": [
    {
     "data": {
      "text/plain": [
       "([7, 69], [47, 48], [80, 25])"
      ]
     },
     "execution_count": 299,
     "metadata": {},
     "output_type": "execute_result"
    }
   ],
   "source": [
    "centroid1 = random.randint(0,29)\n",
    "centroid2 = random.randint(0,29)\n",
    "centroid3 = random.randint(0,29)\n",
    "while centroid2 == centroid1:\n",
    "    centroid2 = random.randint(0,29)\n",
    "while centroid3 == centroid1 or centroid3 == centroid2:\n",
    "    centroid3 = random.randint(0,29)\n",
    "centroid1 = [x[centroid1],y[centroid1]]\n",
    "centroid2 = [x[centroid2],y[centroid2]]\n",
    "centroid3 = [x[centroid3],y[centroid3]]\n",
    "centroid1, centroid2, centroid3"
   ]
  },
  {
   "cell_type": "code",
   "execution_count": 300,
   "metadata": {},
   "outputs": [],
   "source": [
    "def itungjarak(x,y,centroid1,centroid2,centroid3):\n",
    "    nearc1, nearc2, nearc3 = [],[],[]\n",
    "    for k in range (len(x)):\n",
    "        if distance.euclidean([x[k],y[k]],centroid1) <= distance.euclidean([x[k],y[k]],centroid2) and distance.euclidean([x[k],y[k]],centroid1) <= distance.euclidean([x[k],y[k]],centroid3):\n",
    "            nearc1.append(k)\n",
    "        elif distance.euclidean([x[k],y[k]],centroid2) <= distance.euclidean([x[k],y[k]],centroid1) and distance.euclidean([x[k],y[k]],centroid2) <= distance.euclidean([x[k],y[k]],centroid3):\n",
    "            nearc2.append(k)\n",
    "        else:\n",
    "            nearc3.append(k)\n",
    "    return nearc1,nearc2,nearc3"
   ]
  },
  {
   "cell_type": "code",
   "execution_count": 301,
   "metadata": {},
   "outputs": [],
   "source": [
    "def cluster(nearc1,nearc2,nearc3):\n",
    "    x1,y1 = [],[]\n",
    "    for i in nearc1:\n",
    "        x1.append(x[i])\n",
    "        y1.append(y[i])\n",
    "\n",
    "    x2,y2 = [],[]\n",
    "    for i in nearc2:\n",
    "        x2.append(x[i])\n",
    "        y2.append(y[i])\n",
    "        \n",
    "    x3,y3 = [],[]\n",
    "    for i in nearc3:\n",
    "        x3.append(x[i])\n",
    "        y3.append(y[i])\n",
    "    return x1,y1,x2,y2,x3,y3"
   ]
  },
  {
   "cell_type": "code",
   "execution_count": 302,
   "metadata": {},
   "outputs": [],
   "source": [
    "def graph(x1,y1,x2,y2,x3,y3,centroid1,centroid2,centroid3):\n",
    "    plt.scatter(x1,y1,c = 'orange')\n",
    "    plt.scatter(x2,y2,c = 'cyan')\n",
    "    plt.scatter(x3,y3,c = 'gray')\n",
    "    plt.scatter(centroid1[0],centroid1[1],c = 'red',label = 'Centroid 1')\n",
    "    plt.scatter(centroid2[0],centroid2[1],c = 'blue',label ='Centroid 2')\n",
    "    plt.scatter(centroid3[0],centroid3[1],c = 'black',label = 'Centroid 3')\n",
    "    plt.xlabel('x')\n",
    "    plt.ylabel('y')"
   ]
  },
  {
   "cell_type": "code",
   "execution_count": 303,
   "metadata": {},
   "outputs": [],
   "source": [
    "def newcentroid(x,y,nearc1,nearc2,nearc3):\n",
    "    totalx,totaly = 0,0\n",
    "    for k in nearc1:\n",
    "        totalx = totalx + x[k]\n",
    "        totaly = totaly + y[k]\n",
    "    centroid1 = [totalx/len(nearc1),totaly/len(nearc1)]\n",
    "\n",
    "    totalx,totaly = 0,0\n",
    "    for k in nearc2:\n",
    "        totalx = totalx + x[k]\n",
    "        totaly = totaly + y[k]\n",
    "    centroid2 = [totalx/len(nearc2),totaly/len(nearc2)]\n",
    "    \n",
    "    totalx,totaly = 0,0\n",
    "    for k in nearc3:\n",
    "        totalx = totalx + x[k]\n",
    "        totaly = totaly + y[k]\n",
    "    centroid3 = [totalx/len(nearc3),totaly/len(nearc3)]\n",
    "    \n",
    "    return centroid1,centroid2,centroid3"
   ]
  },
  {
   "cell_type": "code",
   "execution_count": 304,
   "metadata": {
    "scrolled": true
   },
   "outputs": [
    {
     "data": {
      "image/png": "[encoded data removed]",
      "text/plain": [
       "<Figure size 432x288 with 1 Axes>"
      ]
     },
     "metadata": {
      "needs_background": "light"
     },
     "output_type": "display_data"
    }
   ],
   "source": [
    "prevc1,prevc2,prevc3 = centroid1,centroid2,centroid3\n",
    "nearc1,nearc2,nearc3 = itungjarak(x,y,centroid1,centroid2,centroid3)\n",
    "x1,y1,x2,y2,x3,y3 = cluster(nearc1,nearc2,nearc3)\n",
    "centroid1,centroid2,centroid3 = newcentroid(x,y,nearc1,nearc2,nearc3)\n",
    "graph(x1,y1,x2,y2,x3,y3,centroid1,centroid2,centroid3)"
   ]
  },
  {
   "cell_type": "code",
   "execution_count": 305,
   "metadata": {},
   "outputs": [],
   "source": [
    "z = 0\n",
    "while (prevc1 != centroid1 or prevc2 != centroid2 or prevc3 != centroid3) and z<=100:\n",
    "    prevc1,prevc2,prevc3 = centroid1,centroid2,centroid3\n",
    "    nearc1,nearc2,nearc3 = itungjarak(x,y,centroid1,centroid2,centroid3)\n",
    "    x1,y1,x2,y2,x3,y3 = cluster(nearc1,nearc2,nearc3)\n",
    "    centroid1,centroid2,centroid3 = newcentroid(x,y,nearc1,nearc2,nearc3)\n",
    "    z += 1"
   ]
  },
  {
   "cell_type": "code",
   "execution_count": 306,
   "metadata": {},
   "outputs": [
    {
     "data": {
      "image/png": "[encoded data removed]",
      "text/plain": [
       "<Figure size 432x288 with 1 Axes>"
      ]
     },
     "metadata": {
      "needs_background": "light"
     },
     "output_type": "display_data"
    }
   ],
   "source": [
    "graph(x1,y1,x2,y2,x3,y3,centroid1,centroid2,centroid3)"
   ]
  }
 ],
 "metadata": {
  "kernelspec": {
   "display_name": "Python 3",
   "language": "python",
   "name": "python3"
  },
  "language_info": {
   "codemirror_mode": {
    "name": "ipython",
    "version": 3
   },
   "file_extension": ".py",
   "mimetype": "text/x-python",
   "name": "python",
   "nbconvert_exporter": "python",
   "pygments_lexer": "ipython3",
   "version": "3.7.4"
  }
 },
 "nbformat": 4,
 "nbformat_minor": 2
}
